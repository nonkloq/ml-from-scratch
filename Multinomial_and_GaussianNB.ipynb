{
 "cells": [
  {
   "cell_type": "code",
   "execution_count": 1,
   "id": "d4eadd08",
   "metadata": {},
   "outputs": [],
   "source": [
    "import numpy as np\n",
    "import pandas as pd\n",
    "from scipy.stats import multivariate_normal\n",
    "from sklearn.feature_extraction.text import CountVectorizer\n",
    "from sklearn.metrics import accuracy_score, precision_score, recall_score\n",
    "from sklearn.model_selection import train_test_split"
   ]
  },
  {
   "cell_type": "markdown",
   "id": "c3c54842",
   "metadata": {},
   "source": [
    "# Naive Bayes Model Implimentation"
   ]
  },
  {
   "cell_type": "code",
   "execution_count": 2,
   "id": "bdfe05a8",
   "metadata": {},
   "outputs": [],
   "source": [
    "class GaussianNB:\n",
    "    def fit(self, X, y):\n",
    "        self.C,counts = np.unique(y,return_counts=True)\n",
    "        self.k = len(self.C)\n",
    "        self.prior = counts/len(y)\n",
    "        self.mean = []\n",
    "        self.cov = []\n",
    "        \n",
    "        for i in range(self.k):\n",
    "            X_class = X[y == self.C[i]]\n",
    "            self.mean.append(np.mean(X_class, axis=0))\n",
    "            self.cov.append(np.cov(X_class.T))\n",
    "\n",
    "    def predict(self, X):\n",
    "        posterior = np.zeros((X.shape[0],self.k))\n",
    "        for j in range(self.k):\n",
    "            likelihood_j = multivariate_normal.pdf(X, mean=self.mean[j], cov=self.cov[j])\n",
    "            posterior[:,j] = np.exp(np.log(likelihood_j*self.prior[j])) # a_k\n",
    "        # Normalizing the posterior by evidence\n",
    "        posterior/= np.sum(posterior,axis=1,keepdims=True)\n",
    "        return self.C[np.argmax(posterior,axis=1)]"
   ]
  },
  {
   "cell_type": "markdown",
   "id": "35692b08",
   "metadata": {},
   "source": [
    "## Train with sample training data set stored in a .CSV file and compute the accuracy with a few test data sets."
   ]
  },
  {
   "cell_type": "code",
   "execution_count": 3,
   "id": "1e3edd33",
   "metadata": {},
   "outputs": [],
   "source": [
    "data = pd.read_csv(\"https://raw.githubusercontent.com/selva86/datasets/master/seeds.csv\")"
   ]
  },
  {
   "cell_type": "code",
   "execution_count": 4,
   "id": "656264c4",
   "metadata": {},
   "outputs": [
    {
     "data": {
      "text/html": [
       "<div>\n",
       "<style scoped>\n",
       "    .dataframe tbody tr th:only-of-type {\n",
       "        vertical-align: middle;\n",
       "    }\n",
       "\n",
       "    .dataframe tbody tr th {\n",
       "        vertical-align: top;\n",
       "    }\n",
       "\n",
       "    .dataframe thead th {\n",
       "        text-align: right;\n",
       "    }\n",
       "</style>\n",
       "<table border=\"1\" class=\"dataframe\">\n",
       "  <thead>\n",
       "    <tr style=\"text-align: right;\">\n",
       "      <th></th>\n",
       "      <th>V1</th>\n",
       "      <th>V2</th>\n",
       "      <th>V3</th>\n",
       "      <th>V4</th>\n",
       "      <th>V5</th>\n",
       "      <th>V6</th>\n",
       "      <th>V7</th>\n",
       "      <th>V8</th>\n",
       "    </tr>\n",
       "  </thead>\n",
       "  <tbody>\n",
       "    <tr>\n",
       "      <th>0</th>\n",
       "      <td>15.26</td>\n",
       "      <td>14.84</td>\n",
       "      <td>0.8710</td>\n",
       "      <td>5.763</td>\n",
       "      <td>3.312</td>\n",
       "      <td>2.221</td>\n",
       "      <td>5.220</td>\n",
       "      <td>1</td>\n",
       "    </tr>\n",
       "    <tr>\n",
       "      <th>1</th>\n",
       "      <td>14.88</td>\n",
       "      <td>14.57</td>\n",
       "      <td>0.8811</td>\n",
       "      <td>5.554</td>\n",
       "      <td>3.333</td>\n",
       "      <td>1.018</td>\n",
       "      <td>4.956</td>\n",
       "      <td>1</td>\n",
       "    </tr>\n",
       "    <tr>\n",
       "      <th>2</th>\n",
       "      <td>14.29</td>\n",
       "      <td>14.09</td>\n",
       "      <td>0.9050</td>\n",
       "      <td>5.291</td>\n",
       "      <td>3.337</td>\n",
       "      <td>2.699</td>\n",
       "      <td>4.825</td>\n",
       "      <td>1</td>\n",
       "    </tr>\n",
       "    <tr>\n",
       "      <th>3</th>\n",
       "      <td>13.84</td>\n",
       "      <td>13.94</td>\n",
       "      <td>0.8955</td>\n",
       "      <td>5.324</td>\n",
       "      <td>3.379</td>\n",
       "      <td>2.259</td>\n",
       "      <td>4.805</td>\n",
       "      <td>1</td>\n",
       "    </tr>\n",
       "    <tr>\n",
       "      <th>4</th>\n",
       "      <td>16.14</td>\n",
       "      <td>14.99</td>\n",
       "      <td>0.9034</td>\n",
       "      <td>5.658</td>\n",
       "      <td>3.562</td>\n",
       "      <td>1.355</td>\n",
       "      <td>5.175</td>\n",
       "      <td>1</td>\n",
       "    </tr>\n",
       "  </tbody>\n",
       "</table>\n",
       "</div>"
      ],
      "text/plain": [
       "      V1     V2      V3     V4     V5     V6     V7  V8\n",
       "0  15.26  14.84  0.8710  5.763  3.312  2.221  5.220   1\n",
       "1  14.88  14.57  0.8811  5.554  3.333  1.018  4.956   1\n",
       "2  14.29  14.09  0.9050  5.291  3.337  2.699  4.825   1\n",
       "3  13.84  13.94  0.8955  5.324  3.379  2.259  4.805   1\n",
       "4  16.14  14.99  0.9034  5.658  3.562  1.355  5.175   1"
      ]
     },
     "execution_count": 4,
     "metadata": {},
     "output_type": "execute_result"
    }
   ],
   "source": [
    "data.head()"
   ]
  },
  {
   "cell_type": "code",
   "execution_count": 5,
   "id": "0a3412a8",
   "metadata": {},
   "outputs": [],
   "source": [
    "X,y = data.iloc[:,:-1],data.iloc[:,-1]\n",
    "X_train, X_test, y_train, y_test = train_test_split(X,y, test_size=0.2, random_state=20,shuffle=True)"
   ]
  },
  {
   "cell_type": "code",
   "execution_count": 6,
   "id": "a1556587",
   "metadata": {},
   "outputs": [
    {
     "name": "stderr",
     "output_type": "stream",
     "text": [
      "/tmp/ipykernel_5520/677662774.py:18: RuntimeWarning: divide by zero encountered in log\n",
      "  posterior[:,j] = np.exp(np.log(likelihood_j*self.prior[j])) # a_k\n"
     ]
    }
   ],
   "source": [
    "gnb = GaussianNB()\n",
    "gnb.fit(X_train,y_train)\n",
    "preds = gnb.predict(X_test)"
   ]
  },
  {
   "cell_type": "code",
   "execution_count": 7,
   "id": "f7cf60d0",
   "metadata": {},
   "outputs": [
    {
     "name": "stdout",
     "output_type": "stream",
     "text": [
      "Missclassification: 2 out off 42\n",
      "Model Accuracy: 0.9523809523809523\n"
     ]
    }
   ],
   "source": [
    "print(\"Missclassification:\",np.sum(y_test != preds),\"out off\",len(y_test))\n",
    "print(\"Model Accuracy:\",accuracy_score(y_test,preds))"
   ]
  },
  {
   "cell_type": "code",
   "execution_count": 8,
   "id": "1597f4b3",
   "metadata": {},
   "outputs": [
    {
     "name": "stdout",
     "output_type": "stream",
     "text": [
      "Missclassification: 5 out off 42\n",
      "Model Accuracy: 0.8809523809523809\n"
     ]
    }
   ],
   "source": [
    "# Comparing with sklearn implementation\n",
    "from sklearn.naive_bayes import GaussianNB\n",
    "gnb = GaussianNB()\n",
    "gnb.fit(X_train,y_train)\n",
    "preds = gnb.predict(X_test)\n",
    "print(\"Missclassification:\",np.sum(y_test != preds),\"out off\",len(y_test))\n",
    "print(\"Model Accuracy:\",accuracy_score(y_test,preds))"
   ]
  },
  {
   "cell_type": "markdown",
   "id": "5eb1056b",
   "metadata": {},
   "source": [
    "# Multinomial Naive Bayes Implimentation"
   ]
  },
  {
   "cell_type": "code",
   "execution_count": 17,
   "id": "28b682c0",
   "metadata": {},
   "outputs": [],
   "source": [
    "class MultinomialNBDOC:\n",
    "    def fit(self, X, y,alpha=1):\n",
    "        self.C,counts = np.unique(y,return_counts=True)\n",
    "        self.k = len(self.C)\n",
    "        self.priors = counts/len(y)\n",
    "        self.priors = np.log(self.priors)\n",
    "        \n",
    "        self.vectorizer = CountVectorizer()\n",
    "        X = self.vectorizer.fit_transform(X)\n",
    "        \n",
    "        word_counts = np.zeros((self.k, X.shape[1]))\n",
    "        for i in range(self.k):\n",
    "            X_class = X[y == self.C[i]]\n",
    "            word_counts[i, :] = np.sum(X_class, axis=0)\n",
    "        total_counts = word_counts.sum(axis=1, keepdims=True)\n",
    "        \n",
    "        self.log_likelihood_ratio = np.log((word_counts + alpha) / (total_counts + alpha*X.shape[1])) - np.log((total_counts + alpha).sum(axis=1, keepdims=True))\n",
    "        \n",
    "    def predict(self, X):\n",
    "        X = self.vectorizer.transform(X)\n",
    "        log_probs = self.priors + X @ self.log_likelihood_ratio.T\n",
    "        return self.C[np.argmax(log_probs, axis=1)]        "
   ]
  },
  {
   "cell_type": "markdown",
   "id": "32c49dd1",
   "metadata": {},
   "source": [
    "# To classify a set of documents and measure the accuracy, precision, and recall."
   ]
  },
  {
   "cell_type": "code",
   "execution_count": 10,
   "id": "f9262668",
   "metadata": {},
   "outputs": [],
   "source": [
    "from sklearn.datasets import fetch_20newsgroups"
   ]
  },
  {
   "cell_type": "code",
   "execution_count": 11,
   "id": "e9dd22e2",
   "metadata": {},
   "outputs": [],
   "source": [
    "docs = fetch_20newsgroups()"
   ]
  },
  {
   "cell_type": "code",
   "execution_count": 12,
   "id": "69ee62c9",
   "metadata": {},
   "outputs": [],
   "source": [
    "X_train, X_test, y_train, y_test = train_test_split(docs.data, docs.target, test_size=0.2, shuffle=True,random_state=410)"
   ]
  },
  {
   "cell_type": "code",
   "execution_count": 18,
   "id": "40ee33b4",
   "metadata": {},
   "outputs": [],
   "source": [
    "doc_clf = MultinomialNBDOC()\n",
    "doc_clf.fit(X_train,y_train)\n",
    "preds = doc_clf.predict(X_test)"
   ]
  },
  {
   "cell_type": "code",
   "execution_count": 19,
   "id": "c5d9e35e",
   "metadata": {},
   "outputs": [
    {
     "name": "stdout",
     "output_type": "stream",
     "text": [
      "Missclassification: 764 out off 2263\n",
      "Accuracy Score: 0.662\n",
      "Precision Score: 0.839\n",
      "Recall Score: 0.662\n"
     ]
    }
   ],
   "source": [
    "print(\"Missclassification:\",np.sum(y_test != preds),\"out off\",len(y_test))\n",
    "print(f\"Accuracy Score: {accuracy_score(y_test,preds):.3f}\")\n",
    "print(f\"Precision Score: {precision_score(y_test,preds,average='weighted'):.3f}\")\n",
    "print(f\"Recall Score: {recall_score(y_test,preds,average='weighted'):.3f}\")"
   ]
  },
  {
   "cell_type": "code",
   "execution_count": 16,
   "id": "5d7995a5",
   "metadata": {},
   "outputs": [
    {
     "name": "stdout",
     "output_type": "stream",
     "text": [
      "Missclassification: 320 out off 2263\n",
      "Accuracy Score: 0.859\n",
      "Precision Score: 0.878\n",
      "Recall Score: 0.859\n"
     ]
    }
   ],
   "source": [
    "# Comparing with sklearn implementation\n",
    "from sklearn.naive_bayes import MultinomialNB\n",
    "\n",
    "vectorizer = CountVectorizer(stop_words='english')\n",
    "X_train_counts = vectorizer.fit_transform(X_train)\n",
    "X_test_counts = vectorizer.transform(X_test)\n",
    "clf = MultinomialNB()\n",
    "clf.fit(X_train_counts, y_train)\n",
    "y_pred = clf.predict(X_test_counts)\n",
    "accuracy = accuracy_score(y_test, y_pred)\n",
    "precision = precision_score(y_test, y_pred, average='weighted')\n",
    "recall = recall_score(y_test, y_pred, average='weighted')\n",
    "print(\"Missclassification:\",np.sum(y_test != y_pred),\"out off\",len(y_test))\n",
    "print(f\"Accuracy Score: {accuracy_score(y_test,y_pred):.3f}\")\n",
    "print(f\"Precision Score: {precision_score(y_test,y_pred,average='weighted'):.3f}\")\n",
    "print(f\"Recall Score: {recall_score(y_test,y_pred,average='weighted'):.3f}\")"
   ]
  }
 ],
 "metadata": {
  "kernelspec": {
   "display_name": "Python 3 (ipykernel)",
   "language": "python",
   "name": "python3"
  },
  "language_info": {
   "codemirror_mode": {
    "name": "ipython",
    "version": 3
   },
   "file_extension": ".py",
   "mimetype": "text/x-python",
   "name": "python",
   "nbconvert_exporter": "python",
   "pygments_lexer": "ipython3",
   "version": "3.10.9"
  }
 },
 "nbformat": 4,
 "nbformat_minor": 5
}
