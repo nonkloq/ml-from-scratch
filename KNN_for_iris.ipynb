{
 "cells": [
  {
   "cell_type": "code",
   "execution_count": 1,
   "id": "98b04a6e",
   "metadata": {},
   "outputs": [],
   "source": [
    "import numpy as np\n",
    "import matplotlib as plt\n",
    "from sklearn.model_selection import train_test_split\n",
    "from sklearn.datasets import load_iris"
   ]
  },
  {
   "cell_type": "markdown",
   "id": "ebe732a2",
   "metadata": {},
   "source": [
    "# K NN with K-D Tree Implimentation"
   ]
  },
  {
   "cell_type": "code",
   "execution_count": 2,
   "id": "e0a6b183",
   "metadata": {},
   "outputs": [],
   "source": [
    "import heapq as hq"
   ]
  },
  {
   "cell_type": "code",
   "execution_count": 3,
   "id": "4d10ca90",
   "metadata": {},
   "outputs": [],
   "source": [
    "class Node:\n",
    "    def __init__(self, data,left,right):\n",
    "        self.left = left\n",
    "        self.right = right\n",
    "        self.data = data"
   ]
  },
  {
   "cell_type": "code",
   "execution_count": 4,
   "id": "b2036ebf",
   "metadata": {},
   "outputs": [],
   "source": [
    "def euclidean(x1, x2):\n",
    "    return np.sqrt(np.sum((x1 - x2) ** 2))"
   ]
  },
  {
   "cell_type": "code",
   "execution_count": 5,
   "id": "f7936bbd",
   "metadata": {},
   "outputs": [],
   "source": [
    "class KDTree:\n",
    "    def __init__(self, X):\n",
    "        self.X = X\n",
    "        N,self.M = X.shape\n",
    "        self.root = self.build(np.array(range(N)))\n",
    "        \n",
    "    def build(self, data, depth=0):\n",
    "        if len(data)==0: return None\n",
    "        axis = depth % self.M\n",
    "        data = data[np.argsort(self.X[data,axis])]\n",
    "        \n",
    "        median_idx = len(data) // 2\n",
    "        median = data[median_idx]\n",
    "        return Node(\n",
    "            median,\n",
    "            self.build(data[:median_idx], depth + 1),\n",
    "            self.build(data[median_idx+1:], depth + 1)\n",
    "        )\n",
    "\n",
    "    def query(self, point,K):\n",
    "        heap = []\n",
    "        def recursive_search(node, depth):\n",
    "            if not node: return\n",
    "            \n",
    "            axis = depth % len(point)\n",
    "            if self.X[node.data][axis] <= point[axis]:\n",
    "                nearer_path = node.right\n",
    "                further_path = node.left\n",
    "            else:\n",
    "                nearer_path = node.left\n",
    "                further_path = node.right\n",
    "            recursive_search(nearer_path,depth+1)\n",
    "            \n",
    "            distance = euclidean(self.X[node.data],point)\n",
    "            \n",
    "            if len(heap) < K: hq.heappush(heap, (-distance,node.data))\n",
    "            elif distance < -heap[0][0]:\n",
    "                hq.heappop(heap)\n",
    "                hq.heappush(heap, (-distance,node.data))\n",
    "            \n",
    "            if len(heap) < K or np.abs(point[axis] - self.X[node.data][axis]) < -heap[0][0]:\n",
    "                recursive_search(further_path,depth+1)\n",
    "            \n",
    "            return \n",
    "        recursive_search(self.root,0)\n",
    "        return heap"
   ]
  },
  {
   "cell_type": "code",
   "execution_count": 6,
   "id": "f450e1a4",
   "metadata": {},
   "outputs": [],
   "source": [
    "class KNN:\n",
    "    def __init__(self,X,y): # Inefficient Brute Force KNN\n",
    "        self.kdtree = KDTree(X)\n",
    "        self.y = y\n",
    "        self.values,_ = np.unique(y, return_counts=True)\n",
    "\n",
    "    def predict(self,sample,K=9):\n",
    "        y_preds = np.zeros(len(sample))\n",
    "        for j in range(len(sample)):\n",
    "            # Computing K Nearest Neighbor\n",
    "            heap = self.kdtree.query(sample[j],K) # KD tree\n",
    "            k_labels = [self.y[l] for _,l in heap]\n",
    "                \n",
    "            # finding argmax y_hat value\n",
    "            y_pred = None\n",
    "            max_wv = float(\"-inf\")\n",
    "            for v in self.values:\n",
    "                wv_sum = 0\n",
    "                for i in range(K):\n",
    "                    wv_sum += 1*(v==k_labels[i])\n",
    "                if wv_sum > max_wv:\n",
    "                    max_wv = wv_sum\n",
    "                    y_pred = v\n",
    "            y_preds[j] = y_pred\n",
    "        return y_preds"
   ]
  },
  {
   "cell_type": "code",
   "execution_count": 7,
   "id": "f885c39e",
   "metadata": {},
   "outputs": [],
   "source": [
    "iris = load_iris()\n",
    "X,y = iris.data, iris.target"
   ]
  },
  {
   "cell_type": "code",
   "execution_count": 8,
   "id": "6aa81740",
   "metadata": {},
   "outputs": [],
   "source": [
    "X_train, X_test, y_train, y_test = train_test_split(X, y, test_size=0.3, random_state=1,shuffle=True)"
   ]
  },
  {
   "cell_type": "code",
   "execution_count": 9,
   "id": "6f9c312e",
   "metadata": {},
   "outputs": [],
   "source": [
    "knn_model = KNN(X_train,y_train)"
   ]
  },
  {
   "cell_type": "code",
   "execution_count": 10,
   "id": "e2b9e5ce",
   "metadata": {},
   "outputs": [],
   "source": [
    "y_preds = knn_model.predict(X_test)"
   ]
  },
  {
   "cell_type": "code",
   "execution_count": 14,
   "id": "aab2fe68",
   "metadata": {},
   "outputs": [
    {
     "name": "stdout",
     "output_type": "stream",
     "text": [
      "Misclassifications: 1 out of 45\n"
     ]
    }
   ],
   "source": [
    "print(\"Misclassifications:\",np.sum(y_preds != y_test),\"out of\",len(y_test))"
   ]
  },
  {
   "cell_type": "code",
   "execution_count": 16,
   "id": "3d7b45e2",
   "metadata": {},
   "outputs": [
    {
     "name": "stdout",
     "output_type": "stream",
     "text": [
      "Misclassifications: 1 out of 45\n"
     ]
    }
   ],
   "source": [
    "# Comparing with the sklearn implimentation\n",
    "from sklearn.neighbors import KNeighborsClassifier\n",
    "knn_model_sk = KNeighborsClassifier(n_neighbors=9, algorithm='kd_tree')\n",
    "knn_model_sk.fit(X_train, y_train)\n",
    "y_preds = knn_model_sk.predict(X_test)\n",
    "print(\"Misclassifications:\",np.sum(y_preds != y_test),\"out of\",len(y_test))"
   ]
  }
 ],
 "metadata": {
  "kernelspec": {
   "display_name": "Python 3 (ipykernel)",
   "language": "python",
   "name": "python3"
  },
  "language_info": {
   "codemirror_mode": {
    "name": "ipython",
    "version": 3
   },
   "file_extension": ".py",
   "mimetype": "text/x-python",
   "name": "python",
   "nbconvert_exporter": "python",
   "pygments_lexer": "ipython3",
   "version": "3.10.9"
  }
 },
 "nbformat": 4,
 "nbformat_minor": 5
}
